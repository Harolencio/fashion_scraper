{
 "cells": [
  {
   "cell_type": "code",
   "execution_count": 9,
   "metadata": {},
   "outputs": [],
   "source": [
    "from selenium import webdriver\n",
    "from webdriver_manager.chrome import ChromeDriverManager\n",
    "from selenium.webdriver.common.by import By\n",
    "import pandas as pd\n",
    "import time"
   ]
  },
  {
   "cell_type": "code",
   "execution_count": 5,
   "metadata": {},
   "outputs": [
    {
     "name": "stderr",
     "output_type": "stream",
     "text": [
      "C:\\Users\\harol\\AppData\\Local\\Temp\\ipykernel_6640\\2029304634.py:3: DeprecationWarning: executable_path has been deprecated, please pass in a Service object\n",
      "  browser = webdriver.Chrome(ChromeDriverManager().install())\n"
     ]
    }
   ],
   "source": [
    "search_item = \"Formalwear men\"\n",
    "\n",
    "browser = webdriver.Chrome(ChromeDriverManager().install())\n",
    "browser.get('https://coolhunting.com/')\n",
    "search_box = browser.find_element(\"xpath\",'//*[@id=\"search-5\"]/form/label/input')\n",
    "search_box.send_keys(search_item)\n",
    "time.sleep(5)\n",
    "search_box.submit()"
   ]
  },
  {
   "cell_type": "code",
   "execution_count": 6,
   "metadata": {},
   "outputs": [],
   "source": [
    "\n",
    "main = browser.find_element(\"xpath\",'//*[@id=\"jetpack-instant-search__search-results-content\"]/div[1]/ol')"
   ]
  },
  {
   "cell_type": "code",
   "execution_count": 10,
   "metadata": {},
   "outputs": [],
   "source": [
    "articles = main.find_elements(By.TAG_NAME, 'li')\n",
    "links = []\n",
    "for article in articles:\n",
    "    header = article.find_element(By.TAG_NAME, \"a\")\n",
    "    link = header.get_attribute('href')\n",
    "    links.append(link)"
   ]
  },
  {
   "cell_type": "code",
   "execution_count": 12,
   "metadata": {},
   "outputs": [],
   "source": [
    "new_items = []\n",
    "\n",
    "\n",
    "for link in links:\n",
    "    browser.get(link)\n",
    "    record = dict()\n",
    "    main = browser.find_element(By.CLASS_NAME, 'entry-content')\n",
    "    record[\"corpus_text\"] = main.text\n",
    "    new_items.append(record)\n",
    "\n",
    "df = pd.DataFrame(new_items)\n",
    "df.to_csv('Formalwear men.csv', sep=',', encoding='utf-8')\n"
   ]
  },
  {
   "cell_type": "code",
   "execution_count": null,
   "metadata": {},
   "outputs": [],
   "source": []
  }
 ],
 "metadata": {
  "kernelspec": {
   "display_name": "Python 3.10.7 ('venv': venv)",
   "language": "python",
   "name": "python3"
  },
  "language_info": {
   "codemirror_mode": {
    "name": "ipython",
    "version": 3
   },
   "file_extension": ".py",
   "mimetype": "text/x-python",
   "name": "python",
   "nbconvert_exporter": "python",
   "pygments_lexer": "ipython3",
   "version": "3.10.7"
  },
  "orig_nbformat": 4,
  "vscode": {
   "interpreter": {
    "hash": "60f083665f9cb75505866baba5fefc6224937c012d45ddf8817359010af2da45"
   }
  }
 },
 "nbformat": 4,
 "nbformat_minor": 2
}
